{
 "cells": [
  {
   "cell_type": "code",
   "execution_count": 2,
   "metadata": {},
   "outputs": [
    {
     "name": "stdout",
     "output_type": "stream",
     "text": [
      "\n",
      "  Program 1\n",
      "x===========x\n",
      "\n",
      "Twinkle, twinkle, little star,\n",
      "      How I wonder what you are!\n",
      "            Up above the world so high,\n",
      "            Like a diamond in the sky.\n",
      "Twinkle, twinkle, little star,\n",
      "      How I wonder what you are\n"
     ]
    }
   ],
   "source": [
    "print(\"\\n  Program 1\")\n",
    "print(\"x===========x\\n\")\n",
    "print(\"Twinkle, twinkle, little star,\")\n",
    "print(\"      How I wonder what you are!\")\n",
    "print(\"            Up above the world so high,\")\n",
    "print(\"            Like a diamond in the sky.\")\n",
    "print(\"Twinkle, twinkle, little star,\")\n",
    "print(\"      How I wonder what you are\")"
   ]
  },
  {
   "cell_type": "code",
   "execution_count": 3,
   "metadata": {},
   "outputs": [
    {
     "name": "stdout",
     "output_type": "stream",
     "text": [
      "\n",
      "  Program 2\n",
      "x===========x\n",
      "\n",
      "Python version :  \n",
      " 3.6.7 | packaged by conda-forge | (default, Feb 28 2019, 09:07:38) \n",
      "[GCC 7.3.0]\n",
      "\n",
      "Version info. :  \n",
      " sys.version_info(major=3, minor=6, micro=7, releaselevel='final', serial=0)\n"
     ]
    }
   ],
   "source": [
    "import sys\n",
    "\n",
    "print(\"\\n  Program 2\")\n",
    "print(\"x===========x\\n\")\n",
    "\n",
    "print(\"Python version : \",\"\\n\",sys.version)\n",
    "print(\"\\nVersion info. : \",\"\\n\",sys.version_info)"
   ]
  },
  {
   "cell_type": "code",
   "execution_count": 4,
   "metadata": {},
   "outputs": [
    {
     "name": "stdout",
     "output_type": "stream",
     "text": [
      "\n",
      "  Program 3\n",
      "x===========x\n",
      "\n",
      "Current date and time :  \n",
      " 2019-11-04 13:03:33\n"
     ]
    }
   ],
   "source": [
    "import datetime\n",
    "\n",
    "print(\"\\n  Program 3\")\n",
    "print(\"x===========x\\n\")\n",
    "now = datetime.datetime.now()\n",
    "print(\"Current date and time : \",\"\\n\",now.strftime(\"%Y-%m-%d %H:%M:%S\"))"
   ]
  },
  {
   "cell_type": "code",
   "execution_count": 5,
   "metadata": {},
   "outputs": [
    {
     "name": "stdout",
     "output_type": "stream",
     "text": [
      "\n",
      "  Program 4\n",
      "x===========x\n",
      "\n",
      "Input the radius of the circle : 1\n",
      "\n",
      "Area Of Circle is :  3.141592653589793\n"
     ]
    }
   ],
   "source": [
    "from math import pi\n",
    "\n",
    "print(\"\\n  Program 4\")\n",
    "print(\"x===========x\\n\")\n",
    "radius = float(input (\"Input the radius of the circle : \"))\n",
    "print (\"\\nArea Of Circle is : \",(pi*radius**2))"
   ]
  },
  {
   "cell_type": "code",
   "execution_count": 6,
   "metadata": {},
   "outputs": [
    {
     "name": "stdout",
     "output_type": "stream",
     "text": [
      "\n",
      "  Program 5\n",
      "x===========x\n",
      "\n",
      "Enter your First Name : uzair\n",
      "Enter your Last Name : ali\n",
      "\n",
      "Fist Name : uzair\n",
      "Last Name : ali\n",
      "\n",
      "Fist Name in reverse order : riazu\n",
      "Last Name in reverse order : ila\n"
     ]
    }
   ],
   "source": [
    "print(\"\\n  Program 5\")\n",
    "print(\"x===========x\\n\")\n",
    "\n",
    "first_name = input(\"Enter your First Name : \")\n",
    "last_name = input(\"Enter your Last Name : \")\n",
    "\n",
    "print(\"\\nFist Name : \" + first_name)\n",
    "print(\"Last Name : \" + last_name)\n",
    "\n",
    "reverse_first_name = first_name[ : :-1]\n",
    "reverse_last_name = last_name[: :-1]\n",
    "\n",
    "print(\"\\nFist Name in reverse order : \" + reverse_first_name)\n",
    "print(\"Last Name in reverse order : \" + reverse_last_name)"
   ]
  },
  {
   "cell_type": "code",
   "execution_count": 7,
   "metadata": {},
   "outputs": [
    {
     "name": "stdout",
     "output_type": "stream",
     "text": [
      "\n",
      "  Program 6\n",
      "x===========x\n",
      "\n",
      "\n",
      "Enter first number : 3\n",
      "Enter second number : 5\n",
      "\n",
      "Addition of  ' 3 ' and ' 5 ' is :  8\n"
     ]
    }
   ],
   "source": [
    "print(\"\\n  Program 6\")\n",
    "print(\"x===========x\\n\")\n",
    "\n",
    "num1 = int(input(\"\\nEnter first number : \"))\n",
    "num2 = int(input(\"Enter second number : \"))\n",
    "addition = num1+num2\n",
    "print(\"\\nAddition of  '\",num1,\"' and '\",num2,\"' is : \",addition)"
   ]
  },
  {
   "cell_type": "code",
   "execution_count": null,
   "metadata": {},
   "outputs": [],
   "source": []
  }
 ],
 "metadata": {
  "kernelspec": {
   "display_name": "Python 3",
   "language": "python",
   "name": "python3"
  },
  "language_info": {
   "codemirror_mode": {
    "name": "ipython",
    "version": 3
   },
   "file_extension": ".py",
   "mimetype": "text/x-python",
   "name": "python",
   "nbconvert_exporter": "python",
   "pygments_lexer": "ipython3",
   "version": "3.6.7"
  }
 },
 "nbformat": 4,
 "nbformat_minor": 2
}
